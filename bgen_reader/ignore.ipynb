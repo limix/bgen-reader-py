{
 "cells": [
  {
   "cell_type": "code",
   "execution_count": 3,
   "metadata": {},
   "outputs": [],
   "source": [
    "import sys\n",
    "sys.path.append('O:\\\\programs\\\\bgen-reader-py')"
   ]
  },
  {
   "cell_type": "code",
   "execution_count": 4,
   "metadata": {},
   "outputs": [
    {
     "ename": "ImportError",
     "evalue": "cannot import name 'example_filepath' from 'bgen_reader' (unknown location)",
     "output_type": "error",
     "traceback": [
      "\u001b[1;31m---------------------------------------------------------------------------\u001b[0m",
      "\u001b[1;31mImportError\u001b[0m                               Traceback (most recent call last)",
      "\u001b[1;32mo:\\programs\\bgen-reader-py\\bgen_reader\\ignore.ipynb Cell 2\u001b[0m line \u001b[0;36m1\n\u001b[1;32m----> <a href='vscode-notebook-cell:/o%3A/programs/bgen-reader-py/bgen_reader/ignore.ipynb#W0sZmlsZQ%3D%3D?line=0'>1</a>\u001b[0m \u001b[39mfrom\u001b[39;00m \u001b[39mbgen_reader\u001b[39;00m \u001b[39mimport\u001b[39;00m example_filepath, open_bgen\n\u001b[0;32m      <a href='vscode-notebook-cell:/o%3A/programs/bgen-reader-py/bgen_reader/ignore.ipynb#W0sZmlsZQ%3D%3D?line=2'>3</a>\u001b[0m file \u001b[39m=\u001b[39m example_filepath(\u001b[39m\"\u001b[39m\u001b[39mhaplotypes.bgen\u001b[39m\u001b[39m\"\u001b[39m)\n\u001b[0;32m      <a href='vscode-notebook-cell:/o%3A/programs/bgen-reader-py/bgen_reader/ignore.ipynb#W0sZmlsZQ%3D%3D?line=3'>4</a>\u001b[0m \u001b[39mwith\u001b[39;00m open_bgen(file, verbose\u001b[39m=\u001b[39m\u001b[39mFalse\u001b[39;00m) \u001b[39mas\u001b[39;00m bgen:\n",
      "\u001b[1;31mImportError\u001b[0m: cannot import name 'example_filepath' from 'bgen_reader' (unknown location)"
     ]
    }
   ],
   "source": [
    "from bgen_reader import example_filepath, open_bgen\n",
    "\n",
    "file = example_filepath(\"haplotypes.bgen\")\n",
    "with open_bgen(file, verbose=False) as bgen:\n",
    "    print(bgen.ids)\n",
    "    print(bgen.samples)\n",
    "    print(bgen.read())"
   ]
  },
  {
   "cell_type": "code",
   "execution_count": null,
   "metadata": {},
   "outputs": [],
   "source": []
  }
 ],
 "metadata": {
  "kernelspec": {
   "display_name": "Python 3",
   "language": "python",
   "name": "python3"
  },
  "language_info": {
   "codemirror_mode": {
    "name": "ipython",
    "version": 3
   },
   "file_extension": ".py",
   "mimetype": "text/x-python",
   "name": "python",
   "nbconvert_exporter": "python",
   "pygments_lexer": "ipython3",
   "version": "3.11.5"
  }
 },
 "nbformat": 4,
 "nbformat_minor": 2
}
